{
 "cells": [
  {
   "cell_type": "code",
   "execution_count": 30,
   "id": "c7916e3e",
   "metadata": {},
   "outputs": [],
   "source": [
    "import numpy as np\n",
    "import pandas as pd"
   ]
  },
  {
   "cell_type": "code",
   "execution_count": 2,
   "id": "b29839e7",
   "metadata": {},
   "outputs": [],
   "source": [
    "employee_data=pd.read_csv(r\"C:\\Users\\arnav\\OneDrive\\Desktop\\DATA\\employee_data.csv\")\n",
    "\n",
    "insurance_data=pd.read_csv(r\"C:\\Users\\arnav\\OneDrive\\Desktop\\DATA\\insurance_data.csv\")\n",
    "\n",
    "vendor_data=pd.read_csv(r\"C:\\Users\\arnav\\OneDrive\\Desktop\\DATA\\vendor_data.csv\")"
   ]
  },
  {
   "cell_type": "code",
   "execution_count": 3,
   "id": "cf1756c3",
   "metadata": {},
   "outputs": [
    {
     "data": {
      "text/html": [
       "<div>\n",
       "<style scoped>\n",
       "    .dataframe tbody tr th:only-of-type {\n",
       "        vertical-align: middle;\n",
       "    }\n",
       "\n",
       "    .dataframe tbody tr th {\n",
       "        vertical-align: top;\n",
       "    }\n",
       "\n",
       "    .dataframe thead th {\n",
       "        text-align: right;\n",
       "    }\n",
       "</style>\n",
       "<table border=\"1\" class=\"dataframe\">\n",
       "  <thead>\n",
       "    <tr style=\"text-align: right;\">\n",
       "      <th></th>\n",
       "      <th>AGENT_ID</th>\n",
       "      <th>AGENT_NAME</th>\n",
       "      <th>DATE_OF_JOINING</th>\n",
       "      <th>ADDRESS_LINE1</th>\n",
       "      <th>ADDRESS_LINE2</th>\n",
       "      <th>CITY</th>\n",
       "      <th>STATE</th>\n",
       "      <th>POSTAL_CODE</th>\n",
       "      <th>EMP_ROUTING_NUMBER</th>\n",
       "      <th>EMP_ACCT_NUMBER</th>\n",
       "    </tr>\n",
       "  </thead>\n",
       "  <tbody>\n",
       "    <tr>\n",
       "      <th>0</th>\n",
       "      <td>AGENT00001</td>\n",
       "      <td>Ray Johns</td>\n",
       "      <td>05-06-1993</td>\n",
       "      <td>1402 Maggies Way</td>\n",
       "      <td>NaN</td>\n",
       "      <td>Waterbury Center</td>\n",
       "      <td>VT</td>\n",
       "      <td>5677</td>\n",
       "      <td>34584958</td>\n",
       "      <td>HKUN51252328472585</td>\n",
       "    </tr>\n",
       "    <tr>\n",
       "      <th>1</th>\n",
       "      <td>AGENT00002</td>\n",
       "      <td>Angelo Borjon</td>\n",
       "      <td>27-12-2005</td>\n",
       "      <td>414 Tanya Pass</td>\n",
       "      <td>NaN</td>\n",
       "      <td>Panama City</td>\n",
       "      <td>FL</td>\n",
       "      <td>32404</td>\n",
       "      <td>107363763</td>\n",
       "      <td>OPIS19290040088204</td>\n",
       "    </tr>\n",
       "    <tr>\n",
       "      <th>2</th>\n",
       "      <td>AGENT00003</td>\n",
       "      <td>Candy Spellman</td>\n",
       "      <td>02-09-2003</td>\n",
       "      <td>606 National Street</td>\n",
       "      <td>#306</td>\n",
       "      <td>Fayetteville</td>\n",
       "      <td>AR</td>\n",
       "      <td>72701</td>\n",
       "      <td>81744097</td>\n",
       "      <td>YSCJ67489688482590</td>\n",
       "    </tr>\n",
       "    <tr>\n",
       "      <th>3</th>\n",
       "      <td>AGENT00004</td>\n",
       "      <td>Mary Smith</td>\n",
       "      <td>23-09-2004</td>\n",
       "      <td>235 Hugh Thomas Drive</td>\n",
       "      <td>NaN</td>\n",
       "      <td>Panama City</td>\n",
       "      <td>FL</td>\n",
       "      <td>32404</td>\n",
       "      <td>67563771</td>\n",
       "      <td>ZANG21285355574581</td>\n",
       "    </tr>\n",
       "    <tr>\n",
       "      <th>4</th>\n",
       "      <td>AGENT00005</td>\n",
       "      <td>Mildred Diaz</td>\n",
       "      <td>21-06-2011</td>\n",
       "      <td>3426 Broadview Street</td>\n",
       "      <td>NaN</td>\n",
       "      <td>Montgomery</td>\n",
       "      <td>AL</td>\n",
       "      <td>36110</td>\n",
       "      <td>114951317</td>\n",
       "      <td>DZFS82244494451134</td>\n",
       "    </tr>\n",
       "  </tbody>\n",
       "</table>\n",
       "</div>"
      ],
      "text/plain": [
       "     AGENT_ID      AGENT_NAME DATE_OF_JOINING          ADDRESS_LINE1  \\\n",
       "0  AGENT00001       Ray Johns      05-06-1993       1402 Maggies Way   \n",
       "1  AGENT00002   Angelo Borjon      27-12-2005         414 Tanya Pass   \n",
       "2  AGENT00003  Candy Spellman      02-09-2003    606 National Street   \n",
       "3  AGENT00004      Mary Smith      23-09-2004  235 Hugh Thomas Drive   \n",
       "4  AGENT00005    Mildred Diaz      21-06-2011  3426 Broadview Street   \n",
       "\n",
       "  ADDRESS_LINE2              CITY STATE  POSTAL_CODE  EMP_ROUTING_NUMBER  \\\n",
       "0           NaN  Waterbury Center    VT         5677            34584958   \n",
       "1           NaN       Panama City    FL        32404           107363763   \n",
       "2          #306      Fayetteville    AR        72701            81744097   \n",
       "3           NaN       Panama City    FL        32404            67563771   \n",
       "4           NaN        Montgomery    AL        36110           114951317   \n",
       "\n",
       "      EMP_ACCT_NUMBER  \n",
       "0  HKUN51252328472585  \n",
       "1  OPIS19290040088204  \n",
       "2  YSCJ67489688482590  \n",
       "3  ZANG21285355574581  \n",
       "4  DZFS82244494451134  "
      ]
     },
     "execution_count": 3,
     "metadata": {},
     "output_type": "execute_result"
    }
   ],
   "source": [
    "employee_data.head()"
   ]
  },
  {
   "cell_type": "code",
   "execution_count": 4,
   "id": "ed0908b8",
   "metadata": {},
   "outputs": [
    {
     "data": {
      "text/html": [
       "<div>\n",
       "<style scoped>\n",
       "    .dataframe tbody tr th:only-of-type {\n",
       "        vertical-align: middle;\n",
       "    }\n",
       "\n",
       "    .dataframe tbody tr th {\n",
       "        vertical-align: top;\n",
       "    }\n",
       "\n",
       "    .dataframe thead th {\n",
       "        text-align: right;\n",
       "    }\n",
       "</style>\n",
       "<table border=\"1\" class=\"dataframe\">\n",
       "  <thead>\n",
       "    <tr style=\"text-align: right;\">\n",
       "      <th></th>\n",
       "      <th>TXN_DATE_TIME</th>\n",
       "      <th>TRANSACTION_ID</th>\n",
       "      <th>CUSTOMER_ID</th>\n",
       "      <th>POLICY_NUMBER</th>\n",
       "      <th>POLICY_EFF_DT</th>\n",
       "      <th>LOSS_DT</th>\n",
       "      <th>REPORT_DT</th>\n",
       "      <th>INSURANCE_TYPE</th>\n",
       "      <th>PREMIUM_AMOUNT</th>\n",
       "      <th>CLAIM_AMOUNT</th>\n",
       "      <th>...</th>\n",
       "      <th>CLAIM_STATUS</th>\n",
       "      <th>INCIDENT_SEVERITY</th>\n",
       "      <th>AUTHORITY_CONTACTED</th>\n",
       "      <th>ANY_INJURY</th>\n",
       "      <th>POLICE_REPORT_AVAILABLE</th>\n",
       "      <th>INCIDENT_STATE</th>\n",
       "      <th>INCIDENT_CITY</th>\n",
       "      <th>INCIDENT_HOUR_OF_THE_DAY</th>\n",
       "      <th>AGENT_ID</th>\n",
       "      <th>VENDOR_ID</th>\n",
       "    </tr>\n",
       "  </thead>\n",
       "  <tbody>\n",
       "    <tr>\n",
       "      <th>0</th>\n",
       "      <td>01-06-2020 00:00</td>\n",
       "      <td>TXN00000001</td>\n",
       "      <td>A00003822</td>\n",
       "      <td>PLC00008468</td>\n",
       "      <td>23-06-2015</td>\n",
       "      <td>16-05-2020</td>\n",
       "      <td>21-05-2020</td>\n",
       "      <td>Health</td>\n",
       "      <td>157.13</td>\n",
       "      <td>9000</td>\n",
       "      <td>...</td>\n",
       "      <td>A</td>\n",
       "      <td>Major Loss</td>\n",
       "      <td>Police</td>\n",
       "      <td>0</td>\n",
       "      <td>1</td>\n",
       "      <td>GA</td>\n",
       "      <td>Savannah</td>\n",
       "      <td>4</td>\n",
       "      <td>AGENT00413</td>\n",
       "      <td>VNDR00556</td>\n",
       "    </tr>\n",
       "    <tr>\n",
       "      <th>1</th>\n",
       "      <td>01-06-2020 00:00</td>\n",
       "      <td>TXN00000002</td>\n",
       "      <td>A00008149</td>\n",
       "      <td>PLC00009594</td>\n",
       "      <td>21-04-2018</td>\n",
       "      <td>13-05-2020</td>\n",
       "      <td>18-05-2020</td>\n",
       "      <td>Property</td>\n",
       "      <td>141.71</td>\n",
       "      <td>26000</td>\n",
       "      <td>...</td>\n",
       "      <td>A</td>\n",
       "      <td>Total Loss</td>\n",
       "      <td>Ambulance</td>\n",
       "      <td>1</td>\n",
       "      <td>0</td>\n",
       "      <td>AL</td>\n",
       "      <td>Montgomery</td>\n",
       "      <td>0</td>\n",
       "      <td>AGENT00769</td>\n",
       "      <td>VNDR00592</td>\n",
       "    </tr>\n",
       "    <tr>\n",
       "      <th>2</th>\n",
       "      <td>01-06-2020 00:00</td>\n",
       "      <td>TXN00000003</td>\n",
       "      <td>A00003172</td>\n",
       "      <td>PLC00007969</td>\n",
       "      <td>03-10-2019</td>\n",
       "      <td>21-05-2020</td>\n",
       "      <td>26-05-2020</td>\n",
       "      <td>Property</td>\n",
       "      <td>157.24</td>\n",
       "      <td>13000</td>\n",
       "      <td>...</td>\n",
       "      <td>A</td>\n",
       "      <td>Total Loss</td>\n",
       "      <td>Police</td>\n",
       "      <td>0</td>\n",
       "      <td>1</td>\n",
       "      <td>CO</td>\n",
       "      <td>Grand Junction</td>\n",
       "      <td>19</td>\n",
       "      <td>AGENT00883</td>\n",
       "      <td>VNDR00031</td>\n",
       "    </tr>\n",
       "    <tr>\n",
       "      <th>3</th>\n",
       "      <td>01-06-2020 00:00</td>\n",
       "      <td>TXN00000004</td>\n",
       "      <td>A00007572</td>\n",
       "      <td>PLC00009292</td>\n",
       "      <td>29-11-2016</td>\n",
       "      <td>14-05-2020</td>\n",
       "      <td>19-05-2020</td>\n",
       "      <td>Health</td>\n",
       "      <td>172.87</td>\n",
       "      <td>16000</td>\n",
       "      <td>...</td>\n",
       "      <td>A</td>\n",
       "      <td>Minor Loss</td>\n",
       "      <td>Ambulance</td>\n",
       "      <td>0</td>\n",
       "      <td>0</td>\n",
       "      <td>GA</td>\n",
       "      <td>Savannah</td>\n",
       "      <td>12</td>\n",
       "      <td>AGENT00278</td>\n",
       "      <td>VNDR00075</td>\n",
       "    </tr>\n",
       "    <tr>\n",
       "      <th>4</th>\n",
       "      <td>01-06-2020 00:00</td>\n",
       "      <td>TXN00000005</td>\n",
       "      <td>A00008173</td>\n",
       "      <td>PLC00000204</td>\n",
       "      <td>26-12-2011</td>\n",
       "      <td>17-05-2020</td>\n",
       "      <td>22-05-2020</td>\n",
       "      <td>Travel</td>\n",
       "      <td>88.53</td>\n",
       "      <td>3000</td>\n",
       "      <td>...</td>\n",
       "      <td>A</td>\n",
       "      <td>Major Loss</td>\n",
       "      <td>Police</td>\n",
       "      <td>0</td>\n",
       "      <td>1</td>\n",
       "      <td>TN</td>\n",
       "      <td>Nashville</td>\n",
       "      <td>18</td>\n",
       "      <td>AGENT00636</td>\n",
       "      <td>VNDR00472</td>\n",
       "    </tr>\n",
       "  </tbody>\n",
       "</table>\n",
       "<p>5 rows × 38 columns</p>\n",
       "</div>"
      ],
      "text/plain": [
       "      TXN_DATE_TIME TRANSACTION_ID CUSTOMER_ID POLICY_NUMBER POLICY_EFF_DT  \\\n",
       "0  01-06-2020 00:00    TXN00000001   A00003822   PLC00008468    23-06-2015   \n",
       "1  01-06-2020 00:00    TXN00000002   A00008149   PLC00009594    21-04-2018   \n",
       "2  01-06-2020 00:00    TXN00000003   A00003172   PLC00007969    03-10-2019   \n",
       "3  01-06-2020 00:00    TXN00000004   A00007572   PLC00009292    29-11-2016   \n",
       "4  01-06-2020 00:00    TXN00000005   A00008173   PLC00000204    26-12-2011   \n",
       "\n",
       "      LOSS_DT   REPORT_DT INSURANCE_TYPE  PREMIUM_AMOUNT  CLAIM_AMOUNT  ...  \\\n",
       "0  16-05-2020  21-05-2020         Health          157.13          9000  ...   \n",
       "1  13-05-2020  18-05-2020       Property          141.71         26000  ...   \n",
       "2  21-05-2020  26-05-2020       Property          157.24         13000  ...   \n",
       "3  14-05-2020  19-05-2020         Health          172.87         16000  ...   \n",
       "4  17-05-2020  22-05-2020         Travel           88.53          3000  ...   \n",
       "\n",
       "  CLAIM_STATUS INCIDENT_SEVERITY AUTHORITY_CONTACTED ANY_INJURY  \\\n",
       "0            A        Major Loss              Police          0   \n",
       "1            A        Total Loss           Ambulance          1   \n",
       "2            A        Total Loss              Police          0   \n",
       "3            A        Minor Loss           Ambulance          0   \n",
       "4            A        Major Loss              Police          0   \n",
       "\n",
       "  POLICE_REPORT_AVAILABLE  INCIDENT_STATE   INCIDENT_CITY  \\\n",
       "0                       1              GA        Savannah   \n",
       "1                       0              AL      Montgomery   \n",
       "2                       1              CO  Grand Junction   \n",
       "3                       0              GA        Savannah   \n",
       "4                       1              TN       Nashville   \n",
       "\n",
       "  INCIDENT_HOUR_OF_THE_DAY    AGENT_ID  VENDOR_ID  \n",
       "0                        4  AGENT00413  VNDR00556  \n",
       "1                        0  AGENT00769  VNDR00592  \n",
       "2                       19  AGENT00883  VNDR00031  \n",
       "3                       12  AGENT00278  VNDR00075  \n",
       "4                       18  AGENT00636  VNDR00472  \n",
       "\n",
       "[5 rows x 38 columns]"
      ]
     },
     "execution_count": 4,
     "metadata": {},
     "output_type": "execute_result"
    }
   ],
   "source": [
    "insurance_data.head()"
   ]
  },
  {
   "cell_type": "code",
   "execution_count": 5,
   "id": "924d8246",
   "metadata": {},
   "outputs": [
    {
     "data": {
      "text/html": [
       "<div>\n",
       "<style scoped>\n",
       "    .dataframe tbody tr th:only-of-type {\n",
       "        vertical-align: middle;\n",
       "    }\n",
       "\n",
       "    .dataframe tbody tr th {\n",
       "        vertical-align: top;\n",
       "    }\n",
       "\n",
       "    .dataframe thead th {\n",
       "        text-align: right;\n",
       "    }\n",
       "</style>\n",
       "<table border=\"1\" class=\"dataframe\">\n",
       "  <thead>\n",
       "    <tr style=\"text-align: right;\">\n",
       "      <th></th>\n",
       "      <th>VENDOR_ID</th>\n",
       "      <th>VENDOR_NAME</th>\n",
       "      <th>ADDRESS_LINE1</th>\n",
       "      <th>ADDRESS_LINE2</th>\n",
       "      <th>CITY</th>\n",
       "      <th>STATE</th>\n",
       "      <th>POSTAL_CODE</th>\n",
       "    </tr>\n",
       "  </thead>\n",
       "  <tbody>\n",
       "    <tr>\n",
       "      <th>0</th>\n",
       "      <td>VNDR00001</td>\n",
       "      <td>King, Proctor and Jones</td>\n",
       "      <td>2027 North Shannon Drive</td>\n",
       "      <td>#5</td>\n",
       "      <td>Fayetteville</td>\n",
       "      <td>AR</td>\n",
       "      <td>72703</td>\n",
       "    </tr>\n",
       "    <tr>\n",
       "      <th>1</th>\n",
       "      <td>VNDR00002</td>\n",
       "      <td>Garcia Ltd</td>\n",
       "      <td>5701 East Shirley Lane</td>\n",
       "      <td>NaN</td>\n",
       "      <td>Montgomery</td>\n",
       "      <td>AL</td>\n",
       "      <td>36117</td>\n",
       "    </tr>\n",
       "    <tr>\n",
       "      <th>2</th>\n",
       "      <td>VNDR00003</td>\n",
       "      <td>Cherry LLC</td>\n",
       "      <td>1217 Cottondale Road</td>\n",
       "      <td>NaN</td>\n",
       "      <td>Montgomery</td>\n",
       "      <td>AL</td>\n",
       "      <td>36109</td>\n",
       "    </tr>\n",
       "    <tr>\n",
       "      <th>3</th>\n",
       "      <td>VNDR00004</td>\n",
       "      <td>Mays-Benson</td>\n",
       "      <td>227 West Montgomery Cross Road</td>\n",
       "      <td>#736</td>\n",
       "      <td>Savannah</td>\n",
       "      <td>GA</td>\n",
       "      <td>31406</td>\n",
       "    </tr>\n",
       "    <tr>\n",
       "      <th>4</th>\n",
       "      <td>VNDR00005</td>\n",
       "      <td>Wilson PLC</td>\n",
       "      <td>23 North Hill Street</td>\n",
       "      <td>NaN</td>\n",
       "      <td>Nashville</td>\n",
       "      <td>TN</td>\n",
       "      <td>37210</td>\n",
       "    </tr>\n",
       "  </tbody>\n",
       "</table>\n",
       "</div>"
      ],
      "text/plain": [
       "   VENDOR_ID              VENDOR_NAME                   ADDRESS_LINE1  \\\n",
       "0  VNDR00001  King, Proctor and Jones        2027 North Shannon Drive   \n",
       "1  VNDR00002               Garcia Ltd          5701 East Shirley Lane   \n",
       "2  VNDR00003               Cherry LLC            1217 Cottondale Road   \n",
       "3  VNDR00004              Mays-Benson  227 West Montgomery Cross Road   \n",
       "4  VNDR00005               Wilson PLC            23 North Hill Street   \n",
       "\n",
       "  ADDRESS_LINE2          CITY STATE  POSTAL_CODE  \n",
       "0            #5  Fayetteville    AR        72703  \n",
       "1           NaN    Montgomery    AL        36117  \n",
       "2           NaN    Montgomery    AL        36109  \n",
       "3          #736      Savannah    GA        31406  \n",
       "4           NaN     Nashville    TN        37210  "
      ]
     },
     "execution_count": 5,
     "metadata": {},
     "output_type": "execute_result"
    }
   ],
   "source": [
    "vendor_data.head()"
   ]
  },
  {
   "cell_type": "code",
   "execution_count": null,
   "id": "23309aa6",
   "metadata": {},
   "outputs": [],
   "source": [
    "\"\"\"\n",
    "Task 1\n",
    "Merge the 3 dataset & create 1 view of data. You can merge insurance_data.csv & employee_data.csv on AGENT_ID You can merge \n",
    "insurance_data.csv & vendor_data.csv on VENDOR_ID. Note: Use left Outer join as not all claims require Vendor.\n",
    "\"\"\""
   ]
  },
  {
   "cell_type": "code",
   "execution_count": 6,
   "id": "18980aa2",
   "metadata": {},
   "outputs": [],
   "source": [
    "m1=pd.merge(insurance_data,employee_data,on='AGENT_ID',how='left',suffixes=('_CUSTOMER','_AGENT'))\n",
    "\n",
    "view=pd.merge(m1,vendor_data,on='VENDOR_ID',how='left')"
   ]
  },
  {
   "cell_type": "code",
   "execution_count": 7,
   "id": "9449b6ef",
   "metadata": {},
   "outputs": [
    {
     "data": {
      "text/html": [
       "<div>\n",
       "<style scoped>\n",
       "    .dataframe tbody tr th:only-of-type {\n",
       "        vertical-align: middle;\n",
       "    }\n",
       "\n",
       "    .dataframe tbody tr th {\n",
       "        vertical-align: top;\n",
       "    }\n",
       "\n",
       "    .dataframe thead th {\n",
       "        text-align: right;\n",
       "    }\n",
       "</style>\n",
       "<table border=\"1\" class=\"dataframe\">\n",
       "  <thead>\n",
       "    <tr style=\"text-align: right;\">\n",
       "      <th></th>\n",
       "      <th>TXN_DATE_TIME</th>\n",
       "      <th>TRANSACTION_ID</th>\n",
       "      <th>CUSTOMER_ID</th>\n",
       "      <th>POLICY_NUMBER</th>\n",
       "      <th>POLICY_EFF_DT</th>\n",
       "      <th>LOSS_DT</th>\n",
       "      <th>REPORT_DT</th>\n",
       "      <th>INSURANCE_TYPE</th>\n",
       "      <th>PREMIUM_AMOUNT</th>\n",
       "      <th>CLAIM_AMOUNT</th>\n",
       "      <th>...</th>\n",
       "      <th>STATE_AGENT</th>\n",
       "      <th>POSTAL_CODE_AGENT</th>\n",
       "      <th>EMP_ROUTING_NUMBER</th>\n",
       "      <th>EMP_ACCT_NUMBER</th>\n",
       "      <th>VENDOR_NAME</th>\n",
       "      <th>ADDRESS_LINE1</th>\n",
       "      <th>ADDRESS_LINE2</th>\n",
       "      <th>CITY</th>\n",
       "      <th>STATE</th>\n",
       "      <th>POSTAL_CODE</th>\n",
       "    </tr>\n",
       "  </thead>\n",
       "  <tbody>\n",
       "    <tr>\n",
       "      <th>0</th>\n",
       "      <td>01-06-2020 00:00</td>\n",
       "      <td>TXN00000001</td>\n",
       "      <td>A00003822</td>\n",
       "      <td>PLC00008468</td>\n",
       "      <td>23-06-2015</td>\n",
       "      <td>16-05-2020</td>\n",
       "      <td>21-05-2020</td>\n",
       "      <td>Health</td>\n",
       "      <td>157.13</td>\n",
       "      <td>9000</td>\n",
       "      <td>...</td>\n",
       "      <td>TN</td>\n",
       "      <td>37217</td>\n",
       "      <td>35441155</td>\n",
       "      <td>LRZO53254369804934</td>\n",
       "      <td>Ramsey Inc</td>\n",
       "      <td>3114 West 20th Court</td>\n",
       "      <td>NaN</td>\n",
       "      <td>Panama City</td>\n",
       "      <td>FL</td>\n",
       "      <td>32405.0</td>\n",
       "    </tr>\n",
       "    <tr>\n",
       "      <th>1</th>\n",
       "      <td>01-06-2020 00:00</td>\n",
       "      <td>TXN00000002</td>\n",
       "      <td>A00008149</td>\n",
       "      <td>PLC00009594</td>\n",
       "      <td>21-04-2018</td>\n",
       "      <td>13-05-2020</td>\n",
       "      <td>18-05-2020</td>\n",
       "      <td>Property</td>\n",
       "      <td>141.71</td>\n",
       "      <td>26000</td>\n",
       "      <td>...</td>\n",
       "      <td>AZ</td>\n",
       "      <td>85301</td>\n",
       "      <td>44055451</td>\n",
       "      <td>XBYG14382904542874</td>\n",
       "      <td>Morales, Campbell and Washington</td>\n",
       "      <td>42 West Louise Street</td>\n",
       "      <td>B</td>\n",
       "      <td>Fayetteville</td>\n",
       "      <td>AR</td>\n",
       "      <td>72701.0</td>\n",
       "    </tr>\n",
       "    <tr>\n",
       "      <th>2</th>\n",
       "      <td>01-06-2020 00:00</td>\n",
       "      <td>TXN00000003</td>\n",
       "      <td>A00003172</td>\n",
       "      <td>PLC00007969</td>\n",
       "      <td>03-10-2019</td>\n",
       "      <td>21-05-2020</td>\n",
       "      <td>26-05-2020</td>\n",
       "      <td>Property</td>\n",
       "      <td>157.24</td>\n",
       "      <td>13000</td>\n",
       "      <td>...</td>\n",
       "      <td>AL</td>\n",
       "      <td>36105</td>\n",
       "      <td>55770246</td>\n",
       "      <td>WRXH14597428306333</td>\n",
       "      <td>Johnson Ltd</td>\n",
       "      <td>2619 North Quality Lane</td>\n",
       "      <td>#315</td>\n",
       "      <td>Fayetteville</td>\n",
       "      <td>AR</td>\n",
       "      <td>72703.0</td>\n",
       "    </tr>\n",
       "    <tr>\n",
       "      <th>3</th>\n",
       "      <td>01-06-2020 00:00</td>\n",
       "      <td>TXN00000004</td>\n",
       "      <td>A00007572</td>\n",
       "      <td>PLC00009292</td>\n",
       "      <td>29-11-2016</td>\n",
       "      <td>14-05-2020</td>\n",
       "      <td>19-05-2020</td>\n",
       "      <td>Health</td>\n",
       "      <td>172.87</td>\n",
       "      <td>16000</td>\n",
       "      <td>...</td>\n",
       "      <td>OK</td>\n",
       "      <td>73071</td>\n",
       "      <td>87652976</td>\n",
       "      <td>YEPN16077902472499</td>\n",
       "      <td>Blackwell-Foster</td>\n",
       "      <td>3609 Meadow Drive</td>\n",
       "      <td>NaN</td>\n",
       "      <td>Nashville</td>\n",
       "      <td>TN</td>\n",
       "      <td>37215.0</td>\n",
       "    </tr>\n",
       "    <tr>\n",
       "      <th>4</th>\n",
       "      <td>01-06-2020 00:00</td>\n",
       "      <td>TXN00000005</td>\n",
       "      <td>A00008173</td>\n",
       "      <td>PLC00000204</td>\n",
       "      <td>26-12-2011</td>\n",
       "      <td>17-05-2020</td>\n",
       "      <td>22-05-2020</td>\n",
       "      <td>Travel</td>\n",
       "      <td>88.53</td>\n",
       "      <td>3000</td>\n",
       "      <td>...</td>\n",
       "      <td>MD</td>\n",
       "      <td>21061</td>\n",
       "      <td>76119019</td>\n",
       "      <td>HZBK86544578578547</td>\n",
       "      <td>Evans-Scott</td>\n",
       "      <td>4001 19th Place Northeast</td>\n",
       "      <td>NaN</td>\n",
       "      <td>Washington</td>\n",
       "      <td>DC</td>\n",
       "      <td>20018.0</td>\n",
       "    </tr>\n",
       "    <tr>\n",
       "      <th>...</th>\n",
       "      <td>...</td>\n",
       "      <td>...</td>\n",
       "      <td>...</td>\n",
       "      <td>...</td>\n",
       "      <td>...</td>\n",
       "      <td>...</td>\n",
       "      <td>...</td>\n",
       "      <td>...</td>\n",
       "      <td>...</td>\n",
       "      <td>...</td>\n",
       "      <td>...</td>\n",
       "      <td>...</td>\n",
       "      <td>...</td>\n",
       "      <td>...</td>\n",
       "      <td>...</td>\n",
       "      <td>...</td>\n",
       "      <td>...</td>\n",
       "      <td>...</td>\n",
       "      <td>...</td>\n",
       "      <td>...</td>\n",
       "      <td>...</td>\n",
       "    </tr>\n",
       "    <tr>\n",
       "      <th>9995</th>\n",
       "      <td>30-06-2021 00:00</td>\n",
       "      <td>TXN00009996</td>\n",
       "      <td>A00006029</td>\n",
       "      <td>PLC00007245</td>\n",
       "      <td>11-04-2014</td>\n",
       "      <td>25-06-2021</td>\n",
       "      <td>26-06-2021</td>\n",
       "      <td>Motor</td>\n",
       "      <td>105.75</td>\n",
       "      <td>1000</td>\n",
       "      <td>...</td>\n",
       "      <td>AR</td>\n",
       "      <td>72703</td>\n",
       "      <td>35413882</td>\n",
       "      <td>LFOJ76068590051807</td>\n",
       "      <td>NaN</td>\n",
       "      <td>NaN</td>\n",
       "      <td>NaN</td>\n",
       "      <td>NaN</td>\n",
       "      <td>NaN</td>\n",
       "      <td>NaN</td>\n",
       "    </tr>\n",
       "    <tr>\n",
       "      <th>9996</th>\n",
       "      <td>30-06-2021 00:00</td>\n",
       "      <td>TXN00009997</td>\n",
       "      <td>A00003555</td>\n",
       "      <td>PLC00002590</td>\n",
       "      <td>25-08-2015</td>\n",
       "      <td>12-06-2021</td>\n",
       "      <td>17-06-2021</td>\n",
       "      <td>Life</td>\n",
       "      <td>64.59</td>\n",
       "      <td>67000</td>\n",
       "      <td>...</td>\n",
       "      <td>GA</td>\n",
       "      <td>31405</td>\n",
       "      <td>91206790</td>\n",
       "      <td>AHEF60771774635030</td>\n",
       "      <td>Newton, Hodges and Henry</td>\n",
       "      <td>32512 Christine Drive</td>\n",
       "      <td>NaN</td>\n",
       "      <td>Union City</td>\n",
       "      <td>CA</td>\n",
       "      <td>94587.0</td>\n",
       "    </tr>\n",
       "    <tr>\n",
       "      <th>9997</th>\n",
       "      <td>30-06-2021 00:00</td>\n",
       "      <td>TXN00009998</td>\n",
       "      <td>A00004230</td>\n",
       "      <td>PLC00006613</td>\n",
       "      <td>11-10-2018</td>\n",
       "      <td>18-06-2021</td>\n",
       "      <td>23-06-2021</td>\n",
       "      <td>Health</td>\n",
       "      <td>183.50</td>\n",
       "      <td>8000</td>\n",
       "      <td>...</td>\n",
       "      <td>KY</td>\n",
       "      <td>40272</td>\n",
       "      <td>115241097</td>\n",
       "      <td>WREH18805592939657</td>\n",
       "      <td>Reese-Mckinney</td>\n",
       "      <td>20 Garfield Street</td>\n",
       "      <td>NaN</td>\n",
       "      <td>Needham</td>\n",
       "      <td>MA</td>\n",
       "      <td>2492.0</td>\n",
       "    </tr>\n",
       "    <tr>\n",
       "      <th>9998</th>\n",
       "      <td>30-06-2021 00:00</td>\n",
       "      <td>TXN00009999</td>\n",
       "      <td>A00006694</td>\n",
       "      <td>PLC00001781</td>\n",
       "      <td>29-01-2016</td>\n",
       "      <td>16-06-2021</td>\n",
       "      <td>21-06-2021</td>\n",
       "      <td>Motor</td>\n",
       "      <td>113.46</td>\n",
       "      <td>2000</td>\n",
       "      <td>...</td>\n",
       "      <td>AR</td>\n",
       "      <td>72703</td>\n",
       "      <td>13995380</td>\n",
       "      <td>AAZI21883736448048</td>\n",
       "      <td>Harmon, Manning and Bradley</td>\n",
       "      <td>1823 Dinger Road</td>\n",
       "      <td>NaN</td>\n",
       "      <td>Annapolis</td>\n",
       "      <td>MD</td>\n",
       "      <td>21402.0</td>\n",
       "    </tr>\n",
       "    <tr>\n",
       "      <th>9999</th>\n",
       "      <td>30-06-2021 00:00</td>\n",
       "      <td>TXN00010000</td>\n",
       "      <td>A00000390</td>\n",
       "      <td>PLC00005197</td>\n",
       "      <td>17-09-2014</td>\n",
       "      <td>21-06-2021</td>\n",
       "      <td>24-06-2021</td>\n",
       "      <td>Mobile</td>\n",
       "      <td>8.22</td>\n",
       "      <td>300</td>\n",
       "      <td>...</td>\n",
       "      <td>OK</td>\n",
       "      <td>73003</td>\n",
       "      <td>39790996</td>\n",
       "      <td>RPES05613584687957</td>\n",
       "      <td>Foster-Sanchez</td>\n",
       "      <td>4255 Tanager Common</td>\n",
       "      <td>NaN</td>\n",
       "      <td>Fremont</td>\n",
       "      <td>CA</td>\n",
       "      <td>94555.0</td>\n",
       "    </tr>\n",
       "  </tbody>\n",
       "</table>\n",
       "<p>10000 rows × 53 columns</p>\n",
       "</div>"
      ],
      "text/plain": [
       "         TXN_DATE_TIME TRANSACTION_ID CUSTOMER_ID POLICY_NUMBER POLICY_EFF_DT  \\\n",
       "0     01-06-2020 00:00    TXN00000001   A00003822   PLC00008468    23-06-2015   \n",
       "1     01-06-2020 00:00    TXN00000002   A00008149   PLC00009594    21-04-2018   \n",
       "2     01-06-2020 00:00    TXN00000003   A00003172   PLC00007969    03-10-2019   \n",
       "3     01-06-2020 00:00    TXN00000004   A00007572   PLC00009292    29-11-2016   \n",
       "4     01-06-2020 00:00    TXN00000005   A00008173   PLC00000204    26-12-2011   \n",
       "...                ...            ...         ...           ...           ...   \n",
       "9995  30-06-2021 00:00    TXN00009996   A00006029   PLC00007245    11-04-2014   \n",
       "9996  30-06-2021 00:00    TXN00009997   A00003555   PLC00002590    25-08-2015   \n",
       "9997  30-06-2021 00:00    TXN00009998   A00004230   PLC00006613    11-10-2018   \n",
       "9998  30-06-2021 00:00    TXN00009999   A00006694   PLC00001781    29-01-2016   \n",
       "9999  30-06-2021 00:00    TXN00010000   A00000390   PLC00005197    17-09-2014   \n",
       "\n",
       "         LOSS_DT   REPORT_DT INSURANCE_TYPE  PREMIUM_AMOUNT  CLAIM_AMOUNT  \\\n",
       "0     16-05-2020  21-05-2020         Health          157.13          9000   \n",
       "1     13-05-2020  18-05-2020       Property          141.71         26000   \n",
       "2     21-05-2020  26-05-2020       Property          157.24         13000   \n",
       "3     14-05-2020  19-05-2020         Health          172.87         16000   \n",
       "4     17-05-2020  22-05-2020         Travel           88.53          3000   \n",
       "...          ...         ...            ...             ...           ...   \n",
       "9995  25-06-2021  26-06-2021          Motor          105.75          1000   \n",
       "9996  12-06-2021  17-06-2021           Life           64.59         67000   \n",
       "9997  18-06-2021  23-06-2021         Health          183.50          8000   \n",
       "9998  16-06-2021  21-06-2021          Motor          113.46          2000   \n",
       "9999  21-06-2021  24-06-2021         Mobile            8.22           300   \n",
       "\n",
       "      ... STATE_AGENT POSTAL_CODE_AGENT EMP_ROUTING_NUMBER  \\\n",
       "0     ...          TN             37217           35441155   \n",
       "1     ...          AZ             85301           44055451   \n",
       "2     ...          AL             36105           55770246   \n",
       "3     ...          OK             73071           87652976   \n",
       "4     ...          MD             21061           76119019   \n",
       "...   ...         ...               ...                ...   \n",
       "9995  ...          AR             72703           35413882   \n",
       "9996  ...          GA             31405           91206790   \n",
       "9997  ...          KY             40272          115241097   \n",
       "9998  ...          AR             72703           13995380   \n",
       "9999  ...          OK             73003           39790996   \n",
       "\n",
       "         EMP_ACCT_NUMBER                       VENDOR_NAME  \\\n",
       "0     LRZO53254369804934                        Ramsey Inc   \n",
       "1     XBYG14382904542874  Morales, Campbell and Washington   \n",
       "2     WRXH14597428306333                       Johnson Ltd   \n",
       "3     YEPN16077902472499                  Blackwell-Foster   \n",
       "4     HZBK86544578578547                       Evans-Scott   \n",
       "...                  ...                               ...   \n",
       "9995  LFOJ76068590051807                               NaN   \n",
       "9996  AHEF60771774635030          Newton, Hodges and Henry   \n",
       "9997  WREH18805592939657                    Reese-Mckinney   \n",
       "9998  AAZI21883736448048       Harmon, Manning and Bradley   \n",
       "9999  RPES05613584687957                    Foster-Sanchez   \n",
       "\n",
       "                  ADDRESS_LINE1 ADDRESS_LINE2          CITY  STATE  \\\n",
       "0          3114 West 20th Court           NaN   Panama City     FL   \n",
       "1         42 West Louise Street             B  Fayetteville     AR   \n",
       "2       2619 North Quality Lane          #315  Fayetteville     AR   \n",
       "3             3609 Meadow Drive           NaN     Nashville     TN   \n",
       "4     4001 19th Place Northeast           NaN    Washington     DC   \n",
       "...                         ...           ...           ...    ...   \n",
       "9995                        NaN           NaN           NaN    NaN   \n",
       "9996      32512 Christine Drive           NaN    Union City     CA   \n",
       "9997         20 Garfield Street           NaN       Needham     MA   \n",
       "9998           1823 Dinger Road           NaN     Annapolis     MD   \n",
       "9999        4255 Tanager Common           NaN       Fremont     CA   \n",
       "\n",
       "      POSTAL_CODE  \n",
       "0         32405.0  \n",
       "1         72701.0  \n",
       "2         72703.0  \n",
       "3         37215.0  \n",
       "4         20018.0  \n",
       "...           ...  \n",
       "9995          NaN  \n",
       "9996      94587.0  \n",
       "9997       2492.0  \n",
       "9998      21402.0  \n",
       "9999      94555.0  \n",
       "\n",
       "[10000 rows x 53 columns]"
      ]
     },
     "execution_count": 7,
     "metadata": {},
     "output_type": "execute_result"
    }
   ],
   "source": [
    "view"
   ]
  },
  {
   "cell_type": "code",
   "execution_count": null,
   "id": "7447f1b2",
   "metadata": {},
   "outputs": [],
   "source": [
    "\"\"\"\n",
    "Task 2\n",
    "Business Leader wants to find Top 3 Insurance Type where we are getting most insurance claims?\n",
    "\"\"\""
   ]
  },
  {
   "cell_type": "code",
   "execution_count": 8,
   "id": "184d2ec7",
   "metadata": {},
   "outputs": [
    {
     "data": {
      "text/plain": [
       "Property    1692\n",
       "Mobile      1692\n",
       "Health      1690\n",
       "Name: INSURANCE_TYPE, dtype: int64"
      ]
     },
     "execution_count": 8,
     "metadata": {},
     "output_type": "execute_result"
    }
   ],
   "source": [
    "insurance_data.INSURANCE_TYPE.value_counts()[:3]"
   ]
  },
  {
   "cell_type": "code",
   "execution_count": null,
   "id": "fe5d60bd",
   "metadata": {},
   "outputs": [],
   "source": [
    "\"\"\"\n",
    "Task 3\n",
    "Business Leader wants to find Top 5 States where we are getting most \n",
    "insurance claims for customer belonging to HIGH(H) risk segment?\n",
    "\"\"\""
   ]
  },
  {
   "cell_type": "code",
   "execution_count": 9,
   "id": "8dfc2686",
   "metadata": {},
   "outputs": [
    {
     "data": {
      "text/plain": [
       "CA    148\n",
       "AZ    105\n",
       "FL    104\n",
       "TN    100\n",
       "AR     97\n",
       "Name: STATE, dtype: int64"
      ]
     },
     "execution_count": 9,
     "metadata": {},
     "output_type": "execute_result"
    }
   ],
   "source": [
    "insurance_data[insurance_data['RISK_SEGMENTATION']=='H'].STATE.value_counts()[:5]"
   ]
  },
  {
   "cell_type": "code",
   "execution_count": null,
   "id": "53058ecb",
   "metadata": {},
   "outputs": [],
   "source": [
    "\"\"\"\n",
    "Task 4\n",
    "Business wants to create a new variable “COLOCATION” which will have following values \n",
    "IF Customer State == Incident State == Agent Address State THEN 1 ELSE 0. Find the mean of this new column\"\n",
    "\"\"\""
   ]
  },
  {
   "cell_type": "code",
   "execution_count": 10,
   "id": "a394f174",
   "metadata": {},
   "outputs": [],
   "source": [
    "view['COLOCATION'] = (view['STATE_CUSTOMER']==view['INCIDENT_STATE'])&(view['INCIDENT_STATE']==view['STATE_AGENT'])"
   ]
  },
  {
   "cell_type": "code",
   "execution_count": 11,
   "id": "7c9f6701",
   "metadata": {},
   "outputs": [],
   "source": [
    "view['COLOCATION']=view.COLOCATION.astype('int')"
   ]
  },
  {
   "cell_type": "code",
   "execution_count": 12,
   "id": "95b67b65",
   "metadata": {},
   "outputs": [
    {
     "data": {
      "text/plain": [
       "0.0044"
      ]
     },
     "execution_count": 12,
     "metadata": {},
     "output_type": "execute_result"
    }
   ],
   "source": [
    "view.COLOCATION.mean()"
   ]
  },
  {
   "cell_type": "code",
   "execution_count": null,
   "id": "6fb3c0af",
   "metadata": {},
   "outputs": [],
   "source": [
    "\"\"\"\n",
    "Task 5\n",
    "Data entry error was detected in the data and you are required to correct it. If for any claim transaction “AUTHORITY_CONTACTED” is NOT “Police” and POLICE_AVAILABLE == 1\n",
    "Then Update “AUTHORITY_CONTACTED” to Police.\n",
    "\"\"\""
   ]
  },
  {
   "cell_type": "code",
   "execution_count": 13,
   "id": "80c2a46d",
   "metadata": {},
   "outputs": [],
   "source": [
    "not_police = view[view['AUTHORITY_CONTACTED']!='Police']"
   ]
  },
  {
   "cell_type": "code",
   "execution_count": 14,
   "id": "738ef535",
   "metadata": {},
   "outputs": [],
   "source": [
    "update_rows = not_police[not_police['POLICE_REPORT_AVAILABLE']==1].index"
   ]
  },
  {
   "cell_type": "code",
   "execution_count": 15,
   "id": "e42081ef",
   "metadata": {},
   "outputs": [],
   "source": [
    "view.loc[update_rows,'AUTHORITY_CONTACTED'] = 'Police'"
   ]
  },
  {
   "cell_type": "code",
   "execution_count": 16,
   "id": "6e193b12",
   "metadata": {},
   "outputs": [
    {
     "data": {
      "text/html": [
       "<div>\n",
       "<style scoped>\n",
       "    .dataframe tbody tr th:only-of-type {\n",
       "        vertical-align: middle;\n",
       "    }\n",
       "\n",
       "    .dataframe tbody tr th {\n",
       "        vertical-align: top;\n",
       "    }\n",
       "\n",
       "    .dataframe thead th {\n",
       "        text-align: right;\n",
       "    }\n",
       "</style>\n",
       "<table border=\"1\" class=\"dataframe\">\n",
       "  <thead>\n",
       "    <tr style=\"text-align: right;\">\n",
       "      <th></th>\n",
       "      <th>TXN_DATE_TIME</th>\n",
       "      <th>TRANSACTION_ID</th>\n",
       "      <th>CUSTOMER_ID</th>\n",
       "      <th>POLICY_NUMBER</th>\n",
       "      <th>POLICY_EFF_DT</th>\n",
       "      <th>LOSS_DT</th>\n",
       "      <th>REPORT_DT</th>\n",
       "      <th>INSURANCE_TYPE</th>\n",
       "      <th>PREMIUM_AMOUNT</th>\n",
       "      <th>CLAIM_AMOUNT</th>\n",
       "      <th>...</th>\n",
       "      <th>POSTAL_CODE_AGENT</th>\n",
       "      <th>EMP_ROUTING_NUMBER</th>\n",
       "      <th>EMP_ACCT_NUMBER</th>\n",
       "      <th>VENDOR_NAME</th>\n",
       "      <th>ADDRESS_LINE1</th>\n",
       "      <th>ADDRESS_LINE2</th>\n",
       "      <th>CITY</th>\n",
       "      <th>STATE</th>\n",
       "      <th>POSTAL_CODE</th>\n",
       "      <th>COLOCATION</th>\n",
       "    </tr>\n",
       "  </thead>\n",
       "  <tbody>\n",
       "  </tbody>\n",
       "</table>\n",
       "<p>0 rows × 54 columns</p>\n",
       "</div>"
      ],
      "text/plain": [
       "Empty DataFrame\n",
       "Columns: [TXN_DATE_TIME, TRANSACTION_ID, CUSTOMER_ID, POLICY_NUMBER, POLICY_EFF_DT, LOSS_DT, REPORT_DT, INSURANCE_TYPE, PREMIUM_AMOUNT, CLAIM_AMOUNT, CUSTOMER_NAME, ADDRESS_LINE1_CUSTOMER, ADDRESS_LINE2_CUSTOMER, CITY_CUSTOMER, STATE_CUSTOMER, POSTAL_CODE_CUSTOMER, SSN, MARITAL_STATUS, AGE, TENURE, EMPLOYMENT_STATUS, NO_OF_FAMILY_MEMBERS, RISK_SEGMENTATION, HOUSE_TYPE, SOCIAL_CLASS, ROUTING_NUMBER, ACCT_NUMBER, CUSTOMER_EDUCATION_LEVEL, CLAIM_STATUS, INCIDENT_SEVERITY, AUTHORITY_CONTACTED, ANY_INJURY, POLICE_REPORT_AVAILABLE, INCIDENT_STATE, INCIDENT_CITY, INCIDENT_HOUR_OF_THE_DAY, AGENT_ID, VENDOR_ID, AGENT_NAME, DATE_OF_JOINING, ADDRESS_LINE1_AGENT, ADDRESS_LINE2_AGENT, CITY_AGENT, STATE_AGENT, POSTAL_CODE_AGENT, EMP_ROUTING_NUMBER, EMP_ACCT_NUMBER, VENDOR_NAME, ADDRESS_LINE1, ADDRESS_LINE2, CITY, STATE, POSTAL_CODE, COLOCATION]\n",
       "Index: []\n",
       "\n",
       "[0 rows x 54 columns]"
      ]
     },
     "execution_count": 16,
     "metadata": {},
     "output_type": "execute_result"
    }
   ],
   "source": [
    "view[(view['POLICE_REPORT_AVAILABLE']==1)&(view['AUTHORITY_CONTACTED']!='Police')]"
   ]
  },
  {
   "cell_type": "code",
   "execution_count": null,
   "id": "57620680",
   "metadata": {},
   "outputs": [],
   "source": [
    "\"\"\"\n",
    "Task 6\n",
    "Business wants to check the Claim Amount for deviation for each transaction, they would like you to calculate as follow\n",
    "CLAIM_DEVIATION = AVG_CLAIM_AMOUNT_FOR_LAST_30DAYS (same insurance type)/ CURRENT_CLAIM_AMOUNT\n",
    "If the value < 0.5 THEN CLAIM_DEVIATION = 1 ELSE 0 \n",
    "If there is less than 30 days of transaction history THEN -1 Note: LAST_30DAYS does not include current day.\n",
    "\"\"\""
   ]
  },
  {
   "cell_type": "code",
   "execution_count": 17,
   "id": "80da85b4",
   "metadata": {},
   "outputs": [
    {
     "data": {
      "text/plain": [
       "'31-12-2020 00:00'"
      ]
     },
     "execution_count": 17,
     "metadata": {},
     "output_type": "execute_result"
    }
   ],
   "source": [
    "view.TXN_DATE_TIME.max()"
   ]
  },
  {
   "cell_type": "code",
   "execution_count": 18,
   "id": "691b1078",
   "metadata": {},
   "outputs": [],
   "source": [
    "current_date = pd.to_datetime('2021-06-30')"
   ]
  },
  {
   "cell_type": "code",
   "execution_count": 19,
   "id": "de5e4f87",
   "metadata": {},
   "outputs": [],
   "source": [
    "view['TXN_DATE_TIME'] = pd.to_datetime(view['TXN_DATE_TIME'])"
   ]
  },
  {
   "cell_type": "code",
   "execution_count": 20,
   "id": "799d9a7c",
   "metadata": {},
   "outputs": [],
   "source": [
    "last_30 = view.loc[(view['TXN_DATE_TIME'] > '2021-05-30') & (view['TXN_DATE_TIME'] < '2021-06-30')]"
   ]
  },
  {
   "cell_type": "code",
   "execution_count": 21,
   "id": "f605e2ec",
   "metadata": {},
   "outputs": [],
   "source": [
    "moderate_claim = last_30.groupby('INSURANCE_TYPE').mean()['CLAIM_AMOUNT'].to_dict()"
   ]
  },
  {
   "cell_type": "code",
   "execution_count": 22,
   "id": "7d0e202d",
   "metadata": {},
   "outputs": [],
   "source": [
    "def Claim_deviation(row):\n",
    "    if (current_date - row['TXN_DATE_TIME'])<pd.Timedelta(days=30):\n",
    "        return -1\n",
    "    claim_deviation = moderate_claim[row['INSURANCE_TYPE']] / row['CLAIM_AMOUNT']\n",
    "    if claim_deviation < 0.5:\n",
    "        return 1\n",
    "    else:\n",
    "        return 0"
   ]
  },
  {
   "cell_type": "code",
   "execution_count": 23,
   "id": "4acbe5a2",
   "metadata": {},
   "outputs": [],
   "source": [
    "view['CLAIM_DEVIATION'] = view.apply(Claim_deviation,axis=1)"
   ]
  },
  {
   "cell_type": "code",
   "execution_count": 24,
   "id": "93266349",
   "metadata": {},
   "outputs": [
    {
     "data": {
      "text/plain": [
       " 0    8404\n",
       "-1    1596\n",
       "Name: CLAIM_DEVIATION, dtype: int64"
      ]
     },
     "execution_count": 24,
     "metadata": {},
     "output_type": "execute_result"
    }
   ],
   "source": [
    "view.CLAIM_DEVIATION.value_counts()"
   ]
  },
  {
   "cell_type": "code",
   "execution_count": null,
   "id": "188e0056",
   "metadata": {},
   "outputs": [],
   "source": [
    "#There are 9216 claims with deviation less than 0.5 and 784 claims with transaction history of less than 30 days"
   ]
  },
  {
   "cell_type": "code",
   "execution_count": null,
   "id": "30ebb4ea",
   "metadata": {},
   "outputs": [],
   "source": [
    "\"\"\"\n",
    "Task 7\n",
    "Find All Agents who have worked on more than 2 types of Insurance Claims. \n",
    "Sort them by Total Claim Amount Approved under them in descending order.\n",
    "\"\"\""
   ]
  },
  {
   "cell_type": "code",
   "execution_count": 25,
   "id": "cf9e8549",
   "metadata": {},
   "outputs": [],
   "source": [
    "type_count = view.groupby('AGENT_ID')['INSURANCE_TYPE'].nunique()"
   ]
  },
  {
   "cell_type": "code",
   "execution_count": 26,
   "id": "58f334b5",
   "metadata": {},
   "outputs": [],
   "source": [
    "agent_insurance_types = type_count>2"
   ]
  },
  {
   "cell_type": "code",
   "execution_count": 27,
   "id": "73b03ebb",
   "metadata": {},
   "outputs": [],
   "source": [
    "multi_type_agents = agent_insurance_types[agent_insurance_types].index"
   ]
  },
  {
   "cell_type": "code",
   "execution_count": 29,
   "id": "d8579730",
   "metadata": {},
   "outputs": [],
   "source": [
    "Top_agents = view.groupby(['AGENT_ID','AGENT_NAME']).sum().loc[multi_type_agents][['CLAIM_AMOUNT']].sort_values('CLAIM_AMOUNT',ascending=False)"
   ]
  },
  {
   "cell_type": "code",
   "execution_count": 31,
   "id": "95585a98",
   "metadata": {},
   "outputs": [
    {
     "name": "stdout",
     "output_type": "stream",
     "text": [
      "                             CLAIM_AMOUNT\n",
      "AGENT_ID   AGENT_NAME                    \n",
      "AGENT00807 Don Filkins             528800\n",
      "AGENT00679 Clara Barnett           489000\n",
      "AGENT00771 Roger Burns             422100\n",
      "AGENT00125 Salvador Soriano        400400\n",
      "AGENT00789 Alison Baron            392900\n",
      "...                                   ...\n",
      "AGENT00910 Vincent Ragan            15500\n",
      "AGENT00689 Connie Hunt              13700\n",
      "AGENT00732 Sylvia Tran              11300\n",
      "AGENT00706 Laura Staggs             10800\n",
      "AGENT00604 Thelma Salinas            5500\n",
      "\n",
      "[1164 rows x 1 columns]\n"
     ]
    }
   ],
   "source": [
    "print(Top_agents)"
   ]
  },
  {
   "cell_type": "code",
   "execution_count": 32,
   "id": "1904c513",
   "metadata": {},
   "outputs": [
    {
     "name": "stdout",
     "output_type": "stream",
     "text": [
      "                             CLAIM_AMOUNT  INSURANCE_TYPE\n",
      "AGENT_ID   AGENT_NAME                                    \n",
      "AGENT00807 Don Filkins             528800               6\n",
      "AGENT00679 Clara Barnett           489000               4\n",
      "AGENT00771 Roger Burns             422100               5\n",
      "AGENT00125 Salvador Soriano        400400               4\n",
      "AGENT00789 Alison Baron            392900               4\n",
      "...                                   ...             ...\n",
      "AGENT00910 Vincent Ragan            15500               3\n",
      "AGENT00689 Connie Hunt              13700               3\n",
      "AGENT00732 Sylvia Tran              11300               3\n",
      "AGENT00706 Laura Staggs             10800               3\n",
      "AGENT00604 Thelma Salinas            5500               3\n",
      "\n",
      "[1164 rows x 2 columns]\n"
     ]
    }
   ],
   "source": [
    "print(Top_agents.join(type_count))"
   ]
  },
  {
   "cell_type": "code",
   "execution_count": null,
   "id": "7b1bf7f2",
   "metadata": {},
   "outputs": [],
   "source": [
    "\"\"\"\n",
    "Task 8\n",
    "Mobile & Travel Insurance premium are discounted by 10%, Health & Property Insurance premium are increased by 7%, Life & Motor Insurance premium are marginally increased by 2%.\n",
    "What will be overall change in % of the Premium Amount Collected for all these Customer?\n",
    "\"\"\""
   ]
  },
  {
   "cell_type": "code",
   "execution_count": 33,
   "id": "154b3ed3",
   "metadata": {},
   "outputs": [],
   "source": [
    "premium_collected_early = view['PREMIUM_AMOUNT'].sum()"
   ]
  },
  {
   "cell_type": "code",
   "execution_count": 34,
   "id": "daf4cf0c",
   "metadata": {},
   "outputs": [],
   "source": [
    "premium_by_types = view.groupby('INSURANCE_TYPE').sum()['PREMIUM_AMOUNT'].to_dict()"
   ]
  },
  {
   "cell_type": "code",
   "execution_count": 35,
   "id": "c960f5ac",
   "metadata": {},
   "outputs": [
    {
     "name": "stdout",
     "output_type": "stream",
     "text": [
      "{'Health': 252455.73, 'Life': 125621.22, 'Mobile': 15191.42, 'Motor': 165391.98, 'Property': 202285.83, 'Travel': 124139.77}\n"
     ]
    }
   ],
   "source": [
    "print(premium_by_types)"
   ]
  },
  {
   "cell_type": "code",
   "execution_count": 37,
   "id": "c56eecfe",
   "metadata": {},
   "outputs": [],
   "source": [
    "# Mobile & Travel premium (discounted by 10%)\n",
    "premium_by_types['Mobile']*=0.9\n",
    "premium_by_types['Travel']*=0.9\n",
    "\n",
    "# Health and Property premium (increases by 7%)\n",
    "premium_by_types['Health']*=1.07\n",
    "premium_by_types['Property']*=1.07\n",
    "\n",
    "# Life and Motor premium (increased by 2%)\n",
    "premium_by_types['Life']*=1.02\n",
    "premium_by_types['Motor']*=1.02"
   ]
  },
  {
   "cell_type": "code",
   "execution_count": 38,
   "id": "9d9d24a5",
   "metadata": {},
   "outputs": [],
   "source": [
    "revised_premium = sum(premium_by_types.values())"
   ]
  },
  {
   "cell_type": "code",
   "execution_count": 39,
   "id": "d1072d29",
   "metadata": {},
   "outputs": [
    {
     "data": {
      "text/plain": [
       "2.6798588543858517"
      ]
     },
     "execution_count": 39,
     "metadata": {},
     "output_type": "execute_result"
    }
   ],
   "source": [
    "(revised_premium-premium_collected_early)*100/premium_collected_early"
   ]
  },
  {
   "cell_type": "code",
   "execution_count": 40,
   "id": "856f50a5",
   "metadata": {},
   "outputs": [
    {
     "name": "stdout",
     "output_type": "stream",
     "text": [
      "885085.95 908805.0042000001\n"
     ]
    }
   ],
   "source": [
    "print(premium_collected_early,revised_premium)"
   ]
  },
  {
   "cell_type": "code",
   "execution_count": null,
   "id": "457dd0b7",
   "metadata": {},
   "outputs": [],
   "source": [
    "# Overall change in Premium amount collected is 2.68% approx"
   ]
  },
  {
   "cell_type": "code",
   "execution_count": null,
   "id": "5da5bc1d",
   "metadata": {},
   "outputs": [],
   "source": [
    "\"\"\"\n",
    "Task 9\n",
    "Business wants to give discount to customer who are loyal and under stress due to Covid 19. They have laid down an eligibility Criteria as follow\n",
    "IF CUSTOMER_TENURE > 60 AND EMPLOYMENT_STATUS = “N” AND NO_OF_FAMILY_MEMBERS >=4 THEN 1 ELSE 0\n",
    "Create a new column “ELIGIBLE_FOR_DISCOUNT” and find it mean.\n",
    "\"\"\""
   ]
  },
  {
   "cell_type": "code",
   "execution_count": 42,
   "id": "f0cbc37e",
   "metadata": {},
   "outputs": [],
   "source": [
    "disc_status=(view['TENURE']>60)&(view['EMPLOYMENT_STATUS']=='N')&(view['NO_OF_FAMILY_MEMBERS']>=4)"
   ]
  },
  {
   "cell_type": "code",
   "execution_count": 43,
   "id": "76457058",
   "metadata": {},
   "outputs": [],
   "source": [
    "view['ELIGIBLE_FOR_DISCOUNT'] = disc_status.astype('int')"
   ]
  },
  {
   "cell_type": "code",
   "execution_count": 44,
   "id": "e8c73a61",
   "metadata": {},
   "outputs": [
    {
     "data": {
      "text/plain": [
       "0.0299"
      ]
     },
     "execution_count": 44,
     "metadata": {},
     "output_type": "execute_result"
    }
   ],
   "source": [
    "view.ELIGIBLE_FOR_DISCOUNT.mean()"
   ]
  },
  {
   "cell_type": "code",
   "execution_count": null,
   "id": "6e25316b",
   "metadata": {},
   "outputs": [],
   "source": [
    "# The mean is (0.0299). This means of total customers (2.99%) are eligible for discount"
   ]
  },
  {
   "cell_type": "code",
   "execution_count": null,
   "id": "282ee00c",
   "metadata": {},
   "outputs": [],
   "source": [
    "\"\"\"\n",
    "Task 10\n",
    "Business wants to check Claim Velocity which is defined as follow\n",
    "CLAIM_VELOCITY = NO_OF_CLAIMS_IN_LAST30DAYS (for the current insurance type)/ NO_OF_CLAIMS_IN_LAST3DAYS \n",
    "(for the current insurance type) Note: LAST30DAYS & LAST3DAYS does not include current day\n",
    "\"\"\""
   ]
  },
  {
   "cell_type": "code",
   "execution_count": 45,
   "id": "f784ed6f",
   "metadata": {},
   "outputs": [
    {
     "name": "stdout",
     "output_type": "stream",
     "text": [
      "2021-06-30 00:00:00\n"
     ]
    }
   ],
   "source": [
    "print(current_date)"
   ]
  },
  {
   "cell_type": "code",
   "execution_count": 46,
   "id": "472f95eb",
   "metadata": {},
   "outputs": [
    {
     "data": {
      "text/plain": [
       "A    9497\n",
       "D     503\n",
       "Name: CLAIM_STATUS, dtype: int64"
      ]
     },
     "execution_count": 46,
     "metadata": {},
     "output_type": "execute_result"
    }
   ],
   "source": [
    "view['CLAIM_STATUS'].value_counts()"
   ]
  },
  {
   "cell_type": "code",
   "execution_count": 47,
   "id": "9972e15f",
   "metadata": {},
   "outputs": [],
   "source": [
    "last_3_days = view.loc[(view['TXN_DATE_TIME'] > current_date-pd.Timedelta(days=4)) & (view['TXN_DATE_TIME'] < current_date)]"
   ]
  },
  {
   "cell_type": "code",
   "execution_count": null,
   "id": "a68495d3",
   "metadata": {},
   "outputs": [],
   "source": [
    "# In pd.Timedelta i set days as 4 because it also counts current date of the day."
   ]
  },
  {
   "cell_type": "code",
   "execution_count": 48,
   "id": "5286be72",
   "metadata": {},
   "outputs": [],
   "source": [
    "claims_in_last_30_days=pd.DataFrame.from_dict(last_30[last_30['CLAIM_STATUS']=='A'].groupby('INSURANCE_TYPE').size().to_dict(),orient='index',columns=['NO_OF_CLAIMS_IN_LAST30DAYS'])"
   ]
  },
  {
   "cell_type": "code",
   "execution_count": 49,
   "id": "8c5bbb71",
   "metadata": {},
   "outputs": [],
   "source": [
    "claims_in_last_3_days=pd.DataFrame.from_dict(last_3_days[last_3_days['CLAIM_STATUS']=='A'].groupby('INSURANCE_TYPE').size().to_dict(),orient='index',columns=['NO_OF_CLAIMS_IN_LAST3DAYS'])"
   ]
  },
  {
   "cell_type": "code",
   "execution_count": 52,
   "id": "602da8da",
   "metadata": {},
   "outputs": [],
   "source": [
    "accepted_claims = claims_in_last_30_days.join(claims_in_last_3_days)"
   ]
  },
  {
   "cell_type": "code",
   "execution_count": 53,
   "id": "ddd9d88c",
   "metadata": {},
   "outputs": [],
   "source": [
    "accepted_claims['CLAIM_VELOCITY'] = accepted_claims['NO_OF_CLAIMS_IN_LAST30DAYS']/accepted_claims['NO_OF_CLAIMS_IN_LAST3DAYS']"
   ]
  },
  {
   "cell_type": "code",
   "execution_count": 54,
   "id": "bdc84dd2",
   "metadata": {},
   "outputs": [
    {
     "name": "stdout",
     "output_type": "stream",
     "text": [
      "          NO_OF_CLAIMS_IN_LAST30DAYS  NO_OF_CLAIMS_IN_LAST3DAYS  \\\n",
      "Health                           106                         14   \n",
      "Life                             113                         12   \n",
      "Mobile                            98                          9   \n",
      "Motor                             96                         12   \n",
      "Property                         106                         12   \n",
      "Travel                           101                         14   \n",
      "\n",
      "          CLAIM_VELOCITY  \n",
      "Health          7.571429  \n",
      "Life            9.416667  \n",
      "Mobile         10.888889  \n",
      "Motor           8.000000  \n",
      "Property        8.833333  \n",
      "Travel          7.214286  \n"
     ]
    }
   ],
   "source": [
    "print(accepted_claims)"
   ]
  },
  {
   "cell_type": "code",
   "execution_count": 55,
   "id": "108bbe14",
   "metadata": {},
   "outputs": [],
   "source": [
    "entire_claims30D = pd.DataFrame.from_dict(last_30.groupby('INSURANCE_TYPE').size().to_dict(),orient='index',columns=['NO_OF_CLAIMS_IN_LAST30DAYS'])"
   ]
  },
  {
   "cell_type": "code",
   "execution_count": 56,
   "id": "72e11160",
   "metadata": {},
   "outputs": [],
   "source": [
    "entire_claims3D = pd.DataFrame.from_dict(last_3_days.groupby('INSURANCE_TYPE').size().to_dict(),orient='index',columns=['NO_OF_CLAIMS_IN_LAST3DAYS'])"
   ]
  },
  {
   "cell_type": "code",
   "execution_count": 57,
   "id": "d66a350f",
   "metadata": {},
   "outputs": [],
   "source": [
    "add_claims=entire_claims30D.join(entire_claims3D)"
   ]
  },
  {
   "cell_type": "code",
   "execution_count": 58,
   "id": "c3769b91",
   "metadata": {},
   "outputs": [],
   "source": [
    "add_claims['CLAIM_VELOCITY'] = add_claims['NO_OF_CLAIMS_IN_LAST30DAYS']/add_claims['NO_OF_CLAIMS_IN_LAST3DAYS']"
   ]
  },
  {
   "cell_type": "code",
   "execution_count": 59,
   "id": "7fcc7393",
   "metadata": {},
   "outputs": [
    {
     "name": "stdout",
     "output_type": "stream",
     "text": [
      "          NO_OF_CLAIMS_IN_LAST30DAYS  NO_OF_CLAIMS_IN_LAST3DAYS  \\\n",
      "Health                           114                         14   \n",
      "Life                             120                         14   \n",
      "Mobile                           101                         10   \n",
      "Motor                             99                         13   \n",
      "Property                         113                         13   \n",
      "Travel                           103                         14   \n",
      "\n",
      "          CLAIM_VELOCITY  \n",
      "Health          8.142857  \n",
      "Life            8.571429  \n",
      "Mobile         10.100000  \n",
      "Motor           7.615385  \n",
      "Property        8.692308  \n",
      "Travel          7.357143  \n"
     ]
    }
   ],
   "source": [
    "print(add_claims)"
   ]
  },
  {
   "cell_type": "code",
   "execution_count": null,
   "id": "8800bfb3",
   "metadata": {},
   "outputs": [],
   "source": [
    "\"\"\"\n",
    "Task 11\n",
    "Find all low performing agents i.e. employees who are in the bottom 5 percentile based on Claims worked by them.\n",
    "\"\"\""
   ]
  },
  {
   "cell_type": "code",
   "execution_count": 61,
   "id": "9c4b6b6d",
   "metadata": {},
   "outputs": [],
   "source": [
    "lower_5percentile_limit = view.groupby('AGENT_ID').sum().quantile(0.05)['CLAIM_AMOUNT']"
   ]
  },
  {
   "cell_type": "code",
   "execution_count": 62,
   "id": "be0c6da7",
   "metadata": {},
   "outputs": [],
   "source": [
    "Agent_grouped_data = view.groupby('AGENT_ID').sum()"
   ]
  },
  {
   "cell_type": "code",
   "execution_count": 63,
   "id": "5cdb5af5",
   "metadata": {},
   "outputs": [],
   "source": [
    "low_performing_agents = Agent_grouped_data[Agent_grouped_data['CLAIM_AMOUNT']<=lower_5percentile_limit][['CLAIM_AMOUNT']]"
   ]
  },
  {
   "cell_type": "code",
   "execution_count": 64,
   "id": "81d7bbd7",
   "metadata": {},
   "outputs": [
    {
     "name": "stdout",
     "output_type": "stream",
     "text": [
      "            CLAIM_AMOUNT\n",
      "AGENT_ID                \n",
      "AGENT00006         22400\n",
      "AGENT00014          7400\n",
      "AGENT00016         27000\n",
      "AGENT00085         25700\n",
      "AGENT00088         27700\n",
      "AGENT00091         30000\n",
      "AGENT00098         28200\n",
      "AGENT00134         22000\n",
      "AGENT00149         28900\n",
      "AGENT00156         13200\n",
      "AGENT00172         22200\n",
      "AGENT00185         16100\n",
      "AGENT00186         27700\n",
      "AGENT00188         28400\n",
      "AGENT00197         18500\n",
      "AGENT00252         20000\n",
      "AGENT00263         11500\n",
      "AGENT00275         16200\n",
      "AGENT00279         28000\n",
      "AGENT00300         12600\n",
      "AGENT00310         28800\n",
      "AGENT00316         22200\n",
      "AGENT00351         21700\n",
      "AGENT00425         17800\n",
      "AGENT00442         30300\n",
      "AGENT00536         20000\n",
      "AGENT00562         21100\n",
      "AGENT00571         24200\n",
      "AGENT00585         16600\n",
      "AGENT00590         22200\n",
      "AGENT00604          5500\n",
      "AGENT00621          5300\n",
      "AGENT00628          6100\n",
      "AGENT00672         21300\n",
      "AGENT00689         13700\n",
      "AGENT00706         10800\n",
      "AGENT00721          9000\n",
      "AGENT00732         11300\n",
      "AGENT00773         15000\n",
      "AGENT00780         11300\n",
      "AGENT00790          6000\n",
      "AGENT00804         20000\n",
      "AGENT00805         22600\n",
      "AGENT00830         23500\n",
      "AGENT00841         17800\n",
      "AGENT00856         24200\n",
      "AGENT00894         27600\n",
      "AGENT00910         15500\n",
      "AGENT00969         28300\n",
      "AGENT00985         30000\n",
      "AGENT01021         24300\n",
      "AGENT01037          5600\n",
      "AGENT01052         28000\n",
      "AGENT01077          4200\n",
      "AGENT01107         24700\n",
      "AGENT01128         28000\n",
      "AGENT01131         27500\n",
      "AGENT01151         28000\n",
      "AGENT01154           800\n",
      "AGENT01179         27300\n"
     ]
    }
   ],
   "source": [
    "print(low_performing_agents)"
   ]
  },
  {
   "cell_type": "code",
   "execution_count": null,
   "id": "344f06ce",
   "metadata": {},
   "outputs": [],
   "source": [
    "\"\"\"\n",
    "Task 12\n",
    "Business wants to find all Suspicious Employees (Agents).\n",
    "IF TOTAL CLAIM AMOUNT which meet below criteria is >= 15000 THEN AGENT is classified as Suspicious \n",
    "ELSE Not CLAIM_STATUS = Approved AND CUSTOMER_RISK_SEGMENTATION = High AND INCIDENT_SEVERITY = “Major Loss”\n",
    "If Suspicious, then 1 ELSE 0. Find mean of this column.\n",
    "\"\"\""
   ]
  },
  {
   "cell_type": "code",
   "execution_count": 65,
   "id": "d9da0c43",
   "metadata": {},
   "outputs": [],
   "source": [
    "criteria = (view['CLAIM_STATUS']=='A')&(view['RISK_SEGMENTATION']=='H')&(view['INCIDENT_SEVERITY']=='Major Loss')"
   ]
  },
  {
   "cell_type": "code",
   "execution_count": 66,
   "id": "dd680b66",
   "metadata": {},
   "outputs": [],
   "source": [
    "criteriamet = view[criteria]"
   ]
  },
  {
   "cell_type": "code",
   "execution_count": 67,
   "id": "d5a126f9",
   "metadata": {},
   "outputs": [],
   "source": [
    "grouped_suspicious_data = criteriamet.groupby('AGENT_ID').sum()"
   ]
  },
  {
   "cell_type": "code",
   "execution_count": 68,
   "id": "cd4f7336",
   "metadata": {},
   "outputs": [],
   "source": [
    "suspicious_agents = list(grouped_suspicious_data[grouped_suspicious_data['CLAIM_AMOUNT']>=15000].index)"
   ]
  },
  {
   "cell_type": "code",
   "execution_count": 69,
   "id": "b274f333",
   "metadata": {},
   "outputs": [
    {
     "name": "stdout",
     "output_type": "stream",
     "text": [
      "        AGENT_ID         AGENT_NAME DATE_OF_JOINING  \\\n",
      "0     AGENT00001          Ray Johns      05-06-1993   \n",
      "1     AGENT00002      Angelo Borjon      27-12-2005   \n",
      "2     AGENT00003     Candy Spellman      02-09-2003   \n",
      "3     AGENT00004         Mary Smith      23-09-2004   \n",
      "4     AGENT00005       Mildred Diaz      21-06-2011   \n",
      "...          ...                ...             ...   \n",
      "1195  AGENT01196     Myrtle Mccatty      14-09-2005   \n",
      "1196  AGENT01197        John Dorsey      04-12-1993   \n",
      "1197  AGENT01198        Ruth Bigbee      05-09-1993   \n",
      "1198  AGENT01199     Tommie Camacho      25-10-2004   \n",
      "1199  AGENT01200  Virginia Stachura      25-05-1999   \n",
      "\n",
      "                         ADDRESS_LINE1 ADDRESS_LINE2              CITY STATE  \\\n",
      "0                     1402 Maggies Way           NaN  Waterbury Center    VT   \n",
      "1                       414 Tanya Pass           NaN       Panama City    FL   \n",
      "2                  606 National Street          #306      Fayetteville    AR   \n",
      "3                235 Hugh Thomas Drive           NaN       Panama City    FL   \n",
      "4                3426 Broadview Street           NaN        Montgomery    AL   \n",
      "...                                ...           ...               ...   ...   \n",
      "1195  3553 Brandywine Street Northwest           NaN        Washington    DC   \n",
      "1196              2315 Chestnut Street           NaN        Montgomery    AL   \n",
      "1197            1983 Reidsville Street           NaN         Annapolis    MD   \n",
      "1198                  5821 Taft Street           NaN            Arvada    CO   \n",
      "1199                   3579 2nd Avenue           NaN         Edgewater    MD   \n",
      "\n",
      "      POSTAL_CODE  EMP_ROUTING_NUMBER     EMP_ACCT_NUMBER  \n",
      "0            5677            34584958  HKUN51252328472585  \n",
      "1           32404           107363763  OPIS19290040088204  \n",
      "2           72701            81744097  YSCJ67489688482590  \n",
      "3           32404            67563771  ZANG21285355574581  \n",
      "4           36110           114951317  DZFS82244494451134  \n",
      "...           ...                 ...                 ...  \n",
      "1195        20008            32137938  EWBR19907574832501  \n",
      "1196        36107            70796687  KGEJ74846009867837  \n",
      "1197        21401           124993912  RASV88064214164820  \n",
      "1198        80004            19424059  UOFO11656245339211  \n",
      "1199        21037            12226940  ALYY24945545778511  \n",
      "\n",
      "[1200 rows x 10 columns]\n"
     ]
    }
   ],
   "source": [
    "print(employee_data)"
   ]
  },
  {
   "cell_type": "code",
   "execution_count": 70,
   "id": "06340353",
   "metadata": {},
   "outputs": [],
   "source": [
    "employee_data['SUSPICIOUS'] = 0"
   ]
  },
  {
   "cell_type": "code",
   "execution_count": 71,
   "id": "7e362315",
   "metadata": {},
   "outputs": [],
   "source": [
    "suspicious_employee_slice = employee_data['AGENT_ID'].isin(suspicious_agents)"
   ]
  },
  {
   "cell_type": "code",
   "execution_count": 72,
   "id": "d8448ef0",
   "metadata": {},
   "outputs": [],
   "source": [
    "employee_data.loc[suspicious_employee_slice,'SUSPICIOUS']=1"
   ]
  },
  {
   "cell_type": "code",
   "execution_count": 73,
   "id": "3240fdbb",
   "metadata": {},
   "outputs": [
    {
     "name": "stdout",
     "output_type": "stream",
     "text": [
      "0.12416666666666666\n"
     ]
    }
   ],
   "source": [
    "print(employee_data['SUSPICIOUS'].mean())"
   ]
  },
  {
   "cell_type": "code",
   "execution_count": null,
   "id": "5f3326f2",
   "metadata": {},
   "outputs": [],
   "source": [
    "# The mean of suspicious column is (0.124167) that means from all employees (12.42%) are suspicious."
   ]
  }
 ],
 "metadata": {
  "kernelspec": {
   "display_name": "Python 3 (ipykernel)",
   "language": "python",
   "name": "python3"
  },
  "language_info": {
   "codemirror_mode": {
    "name": "ipython",
    "version": 3
   },
   "file_extension": ".py",
   "mimetype": "text/x-python",
   "name": "python",
   "nbconvert_exporter": "python",
   "pygments_lexer": "ipython3",
   "version": "3.9.12"
  }
 },
 "nbformat": 4,
 "nbformat_minor": 5
}
